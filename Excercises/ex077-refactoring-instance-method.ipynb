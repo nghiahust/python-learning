{
 "nbformat": 4,
 "nbformat_minor": 2,
 "metadata": {
  "language_info": {
   "name": "python",
   "codemirror_mode": {
    "name": "ipython",
    "version": 3
   },
   "version": "3.7.7-final"
  },
  "orig_nbformat": 2,
  "file_extension": ".py",
  "mimetype": "text/x-python",
  "name": "python",
  "npconvert_exporter": "python",
  "pygments_lexer": "ipython3",
  "version": 3,
  "kernelspec": {
   "name": "python3",
   "display_name": "Python 3"
  }
 },
 "cells": [
  {
   "cell_type": "code",
   "execution_count": 1,
   "metadata": {},
   "outputs": [],
   "source": [
    "import datetime\n",
    "class Diary():\n",
    "    def __init__(self, birthday, christmas):\n",
    "        self.birthday = birthday\n",
    "        self.chirstmas = christmas\n",
    "    def show_birthday(self):\n",
    "        return self.birthday.strftime('%d-%b-%y')\n",
    "    def show_christmas(self):\n",
    "        return self.chirstmas.strftime('%d-%b-%y')"
   ]
  },
  {
   "cell_type": "code",
   "execution_count": 4,
   "metadata": {},
   "outputs": [
    {
     "output_type": "execute_result",
     "data": {
      "text/plain": "'14-May-20'"
     },
     "metadata": {},
     "execution_count": 4
    }
   ],
   "source": [
    "my_diary = Diary(datetime.date(2020, 5, 14), datetime.date(2020, 12, 25))\n",
    "my_diary.show_birthday()"
   ]
  },
  {
   "cell_type": "code",
   "execution_count": 5,
   "metadata": {},
   "outputs": [],
   "source": [
    "class Diary():\n",
    "    def __init__(self, birthday, christmas):\n",
    "        self.birthday = birthday\n",
    "        self.chirstmas = christmas\n",
    "    @staticmethod\n",
    "    def format_date(date):\n",
    "        return date.strftime('%d-%b-%y')\n",
    "    def show_birthday(self):\n",
    "        return self.birthday.strftime('%d-%b-%y')\n",
    "    def show_christmas(self):\n",
    "        return self.chirstmas.strftime('%d-%b-%y')"
   ]
  },
  {
   "cell_type": "code",
   "execution_count": 6,
   "metadata": {},
   "outputs": [
    {
     "output_type": "execute_result",
     "data": {
      "text/plain": "'20-Feb-20'"
     },
     "metadata": {},
     "execution_count": 6
    }
   ],
   "source": [
    "my_diary = Diary(datetime.date(2020, 5, 14), datetime.date(2020, 12, 25))\n",
    "my_diary.format_date(datetime.date(2020, 2, 20))"
   ]
  }
 ]
}