{
 "nbformat": 4,
 "nbformat_minor": 2,
 "metadata": {
  "language_info": {
   "name": "python",
   "codemirror_mode": {
    "name": "ipython",
    "version": 3
   },
   "version": "3.7.7-final"
  },
  "orig_nbformat": 2,
  "file_extension": ".py",
  "mimetype": "text/x-python",
  "name": "python",
  "npconvert_exporter": "python",
  "pygments_lexer": "ipython3",
  "version": 3,
  "kernelspec": {
   "name": "python3",
   "display_name": "Python 3"
  }
 },
 "cells": [
  {
   "cell_type": "code",
   "execution_count": 1,
   "metadata": {},
   "outputs": [
    {
     "output_type": "execute_result",
     "data": {
      "text/plain": "str"
     },
     "metadata": {},
     "execution_count": 1
    }
   ],
   "source": [
    "my_str = 'Hello World!'\n",
    "type(my_str)"
   ]
  },
  {
   "cell_type": "code",
   "execution_count": 2,
   "metadata": {},
   "outputs": [
    {
     "output_type": "stream",
     "name": "stdout",
     "text": "str(object='') -> str\nstr(bytes_or_buffer[, encoding[, errors]]) -> str\n\nCreate a new string object from the given object. If encoding or\nerrors is specified, then the object must expose a data buffer\nthat will be decoded using the given encoding and error handler.\nOtherwise, returns the result of object.__str__() (if defined)\nor repr(object).\nencoding defaults to sys.getdefaultencoding().\nerrors defaults to 'strict'.\n"
    }
   ],
   "source": [
    "print(my_str.__doc__)"
   ]
  },
  {
   "cell_type": "code",
   "execution_count": 3,
   "metadata": {},
   "outputs": [
    {
     "output_type": "execute_result",
     "data": {
      "text/plain": "['__repr__',\n '__hash__',\n '__str__',\n '__getattribute__',\n '__lt__',\n '__le__',\n '__eq__',\n '__ne__',\n '__gt__',\n '__ge__',\n '__iter__',\n '__mod__',\n '__rmod__',\n '__len__',\n '__getitem__',\n '__add__',\n '__mul__',\n '__rmul__',\n '__contains__',\n '__new__',\n 'encode',\n 'replace',\n 'split',\n 'rsplit',\n 'join',\n 'capitalize',\n 'casefold',\n 'title',\n 'center',\n 'count',\n 'expandtabs',\n 'find',\n 'partition',\n 'index',\n 'ljust',\n 'lower',\n 'lstrip',\n 'rfind',\n 'rindex',\n 'rjust',\n 'rstrip',\n 'rpartition',\n 'splitlines',\n 'strip',\n 'swapcase',\n 'translate',\n 'upper',\n 'startswith',\n 'endswith',\n 'isascii',\n 'islower',\n 'isupper',\n 'istitle',\n 'isspace',\n 'isdecimal',\n 'isdigit',\n 'isnumeric',\n 'isalpha',\n 'isalnum',\n 'isidentifier',\n 'isprintable',\n 'zfill',\n 'format',\n 'format_map',\n '__format__',\n 'maketrans',\n '__sizeof__',\n '__getnewargs__',\n '__doc__',\n '__setattr__',\n '__delattr__',\n '__init__',\n '__reduce_ex__',\n '__reduce__',\n '__subclasshook__',\n '__init_subclass__',\n '__dir__',\n '__class__']"
     },
     "metadata": {},
     "execution_count": 3
    }
   ],
   "source": [
    "my_str.__dir__()"
   ]
  },
  {
   "cell_type": "code",
   "execution_count": 5,
   "metadata": {},
   "outputs": [
    {
     "output_type": "execute_result",
     "data": {
      "text/plain": "'Hello world!'"
     },
     "metadata": {},
     "execution_count": 5
    }
   ],
   "source": [
    "my_str.capitalize()"
   ]
  },
  {
   "cell_type": "code",
   "execution_count": 6,
   "metadata": {},
   "outputs": [
    {
     "output_type": "execute_result",
     "data": {
      "text/plain": "'HELLO WORLD!'"
     },
     "metadata": {},
     "execution_count": 6
    }
   ],
   "source": [
    "my_str.upper()"
   ]
  },
  {
   "cell_type": "code",
   "execution_count": 7,
   "metadata": {},
   "outputs": [
    {
     "output_type": "execute_result",
     "data": {
      "text/plain": "'HelloWorld!'"
     },
     "metadata": {},
     "execution_count": 7
    }
   ],
   "source": [
    "my_str.replace(' ', '')"
   ]
  },
  {
   "cell_type": "code",
   "execution_count": null,
   "metadata": {},
   "outputs": [],
   "source": []
  }
 ]
}