{
 "nbformat": 4,
 "nbformat_minor": 2,
 "metadata": {
  "language_info": {
   "name": "python",
   "codemirror_mode": {
    "name": "ipython",
    "version": 3
   },
   "version": "3.7.7-final"
  },
  "orig_nbformat": 2,
  "file_extension": ".py",
  "mimetype": "text/x-python",
  "name": "python",
  "npconvert_exporter": "python",
  "pygments_lexer": "ipython3",
  "version": 3,
  "kernelspec": {
   "name": "python3",
   "display_name": "Python 3"
  }
 },
 "cells": [
  {
   "cell_type": "code",
   "execution_count": 2,
   "metadata": {},
   "outputs": [],
   "source": [
    "import datetime as dt\n",
    "import time\n",
    "\n",
    "time_now = time.time()\n",
    "datetime_now = dt.datetime.now(dt.timezone.utc)"
   ]
  },
  {
   "cell_type": "code",
   "execution_count": 3,
   "metadata": {},
   "outputs": [
    {
     "output_type": "stream",
     "name": "stdout",
     "text": "1970-01-01 00:00:00+00:00\n"
    }
   ],
   "source": [
    "epoch = datetime_now - dt.timedelta(seconds=time_now)\n",
    "print(epoch)"
   ]
  },
  {
   "cell_type": "code",
   "execution_count": 5,
   "metadata": {},
   "outputs": [
    {
     "output_type": "execute_result",
     "data": {
      "text/plain": "[datetime.date(2019, 1, 28),\n datetime.date(2019, 1, 29),\n datetime.date(2019, 1, 30),\n datetime.date(2019, 1, 31),\n datetime.date(2019, 2, 1),\n datetime.date(2019, 2, 2),\n datetime.date(2019, 2, 3),\n datetime.date(2019, 2, 4),\n datetime.date(2019, 2, 5),\n datetime.date(2019, 2, 6),\n datetime.date(2019, 2, 7),\n datetime.date(2019, 2, 8),\n datetime.date(2019, 2, 9),\n datetime.date(2019, 2, 10),\n datetime.date(2019, 2, 11),\n datetime.date(2019, 2, 12),\n datetime.date(2019, 2, 13),\n datetime.date(2019, 2, 14),\n datetime.date(2019, 2, 15),\n datetime.date(2019, 2, 16),\n datetime.date(2019, 2, 17),\n datetime.date(2019, 2, 18),\n datetime.date(2019, 2, 19),\n datetime.date(2019, 2, 20),\n datetime.date(2019, 2, 21),\n datetime.date(2019, 2, 22),\n datetime.date(2019, 2, 23),\n datetime.date(2019, 2, 24),\n datetime.date(2019, 2, 25),\n datetime.date(2019, 2, 26),\n datetime.date(2019, 2, 27),\n datetime.date(2019, 2, 28),\n datetime.date(2019, 3, 1),\n datetime.date(2019, 3, 2),\n datetime.date(2019, 3, 3)]"
     },
     "metadata": {},
     "execution_count": 5
    }
   ],
   "source": [
    "import calendar\n",
    "c = calendar.Calendar()\n",
    "list(c.itermonthdates(2019, 2))"
   ]
  },
  {
   "cell_type": "code",
   "execution_count": 7,
   "metadata": {},
   "outputs": [
    {
     "output_type": "execute_result",
     "data": {
      "text/plain": "[datetime.date(2019, 2, 1),\n datetime.date(2019, 2, 2),\n datetime.date(2019, 2, 3),\n datetime.date(2019, 2, 4),\n datetime.date(2019, 2, 5),\n datetime.date(2019, 2, 6),\n datetime.date(2019, 2, 7),\n datetime.date(2019, 2, 8),\n datetime.date(2019, 2, 9),\n datetime.date(2019, 2, 10),\n datetime.date(2019, 2, 11),\n datetime.date(2019, 2, 12),\n datetime.date(2019, 2, 13),\n datetime.date(2019, 2, 14),\n datetime.date(2019, 2, 15),\n datetime.date(2019, 2, 16),\n datetime.date(2019, 2, 17),\n datetime.date(2019, 2, 18),\n datetime.date(2019, 2, 19),\n datetime.date(2019, 2, 20),\n datetime.date(2019, 2, 21),\n datetime.date(2019, 2, 22),\n datetime.date(2019, 2, 23),\n datetime.date(2019, 2, 24),\n datetime.date(2019, 2, 25),\n datetime.date(2019, 2, 26),\n datetime.date(2019, 2, 27),\n datetime.date(2019, 2, 28)]"
     },
     "metadata": {},
     "execution_count": 7
    }
   ],
   "source": [
    "list (d for d in c.itermonthdates(2019, 2) if d.month == 2)"
   ]
  },
  {
   "cell_type": "code",
   "execution_count": null,
   "metadata": {},
   "outputs": [],
   "source": []
  }
 ]
}