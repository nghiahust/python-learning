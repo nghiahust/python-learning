{
 "nbformat": 4,
 "nbformat_minor": 2,
 "metadata": {
  "language_info": {
   "name": "python",
   "codemirror_mode": {
    "name": "ipython",
    "version": 3
   },
   "version": "3.7.7-final"
  },
  "orig_nbformat": 2,
  "file_extension": ".py",
  "mimetype": "text/x-python",
  "name": "python",
  "npconvert_exporter": "python",
  "pygments_lexer": "ipython3",
  "version": 3,
  "kernelspec": {
   "name": "python37764bitnghiahtconda01fa2e36f9b44c55957eb0a4f9980983",
   "display_name": "Python 3.7.7 64-bit ('nghiaht': conda)"
  }
 },
 "cells": [
  {
   "cell_type": "code",
   "execution_count": 2,
   "metadata": {},
   "outputs": [
    {
     "output_type": "stream",
     "name": "stdout",
     "text": "usage: echo.py [-h] [-c] [--repeat REPEAT] message [message ...]\n\nPrints out the words passed in, capitalizes them if required and repeat them\nin as many lines as rquested.\n\npositional arguments:\n  message            Messages to be echoed\n\noptional arguments:\n  -h, --help         show this help message and exit\n  -c, --captitalize\n  --repeat REPEAT\n"
    }
   ],
   "source": [
    "%run echo -h"
   ]
  },
  {
   "cell_type": "code",
   "execution_count": 4,
   "metadata": {},
   "outputs": [
    {
     "output_type": "stream",
     "name": "stdout",
     "text": "Hello Packt Reader\nHello Packt Reader\nHello Packt Reader\n"
    }
   ],
   "source": [
    "%run echo hello packt reader --repeat=3 -c"
   ]
  },
  {
   "cell_type": "code",
   "execution_count": null,
   "metadata": {},
   "outputs": [],
   "source": []
  }
 ]
}