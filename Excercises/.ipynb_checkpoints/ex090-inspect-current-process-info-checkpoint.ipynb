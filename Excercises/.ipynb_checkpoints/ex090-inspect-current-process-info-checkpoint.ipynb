{
 "cells": [
  {
   "cell_type": "code",
   "execution_count": 1,
   "metadata": {},
   "outputs": [],
   "source": [
    "import platform\n",
    "import os\n",
    "import sys"
   ]
  },
  {
   "cell_type": "code",
   "execution_count": 2,
   "metadata": {},
   "outputs": [
    {
     "name": "stdout",
     "output_type": "stream",
     "text": [
      "Process id: 8308\n",
      "Parent process id: 13292\n"
     ]
    }
   ],
   "source": [
    "print(\"Process id:\", os.getpid())\n",
    "print(\"Parent process id:\", os.getppid())"
   ]
  },
  {
   "cell_type": "code",
   "execution_count": 4,
   "metadata": {},
   "outputs": [
    {
     "name": "stdout",
     "output_type": "stream",
     "text": [
      "Machine network name: DESKTOP-SMQOAC1\n",
      "Python version: 3.7.7\n",
      "System: Windows\n"
     ]
    }
   ],
   "source": [
    "print(\"Machine network name:\", platform.node())\n",
    "print(\"Python version:\", platform.python_version())\n",
    "print(\"System:\", platform.system())"
   ]
  },
  {
   "cell_type": "code",
   "execution_count": 5,
   "metadata": {},
   "outputs": [
    {
     "name": "stdout",
     "output_type": "stream",
     "text": [
      "Python module lookup path: ['C:\\\\Users\\\\hatro\\\\OneDrive\\\\Documents\\\\python-learning\\\\Excercises', 'C:\\\\Users\\\\hatro\\\\anaconda3\\\\envs\\\\nghiaht\\\\python37.zip', 'C:\\\\Users\\\\hatro\\\\anaconda3\\\\envs\\\\nghiaht\\\\DLLs', 'C:\\\\Users\\\\hatro\\\\anaconda3\\\\envs\\\\nghiaht\\\\lib', 'C:\\\\Users\\\\hatro\\\\anaconda3\\\\envs\\\\nghiaht', '', 'C:\\\\Users\\\\hatro\\\\anaconda3\\\\envs\\\\nghiaht\\\\lib\\\\site-packages', 'C:\\\\Users\\\\hatro\\\\anaconda3\\\\envs\\\\nghiaht\\\\lib\\\\site-packages\\\\win32', 'C:\\\\Users\\\\hatro\\\\anaconda3\\\\envs\\\\nghiaht\\\\lib\\\\site-packages\\\\win32\\\\lib', 'C:\\\\Users\\\\hatro\\\\anaconda3\\\\envs\\\\nghiaht\\\\lib\\\\site-packages\\\\Pythonwin', 'C:\\\\Users\\\\hatro\\\\anaconda3\\\\envs\\\\nghiaht\\\\lib\\\\site-packages\\\\IPython\\\\extensions', 'C:\\\\Users\\\\hatro\\\\.ipython']\n",
      "Command to run Python: ['C:\\\\Users\\\\hatro\\\\anaconda3\\\\envs\\\\nghiaht\\\\lib\\\\site-packages\\\\ipykernel_launcher.py', '-f', 'C:\\\\Users\\\\hatro\\\\AppData\\\\Roaming\\\\jupyter\\\\runtime\\\\kernel-27578609-1a07-4914-81d4-9825e061b55a.json']\n"
     ]
    }
   ],
   "source": [
    "print(\"Python module lookup path:\", sys.path)\n",
    "print(\"Command to run Python:\", sys.argv)"
   ]
  },
  {
   "cell_type": "code",
   "execution_count": 6,
   "metadata": {},
   "outputs": [
    {
     "name": "stdout",
     "output_type": "stream",
     "text": [
      "USERNAME environmetn variable: hatro\n"
     ]
    }
   ],
   "source": [
    "print(\"USERNAME environmetn variable:\", os.environ[\"USERNAME\"])"
   ]
  },
  {
   "cell_type": "code",
   "execution_count": null,
   "metadata": {},
   "outputs": [],
   "source": []
  }
 ],
 "metadata": {
  "kernelspec": {
   "display_name": "Python 3",
   "language": "python",
   "name": "python3"
  },
  "language_info": {
   "codemirror_mode": {
    "name": "ipython",
    "version": 3
   },
   "file_extension": ".py",
   "mimetype": "text/x-python",
   "name": "python",
   "nbconvert_exporter": "python",
   "pygments_lexer": "ipython3",
   "version": "3.7.7"
  }
 },
 "nbformat": 4,
 "nbformat_minor": 4
}
