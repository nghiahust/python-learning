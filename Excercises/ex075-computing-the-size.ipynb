{
 "nbformat": 4,
 "nbformat_minor": 2,
 "metadata": {
  "language_info": {
   "name": "python",
   "codemirror_mode": {
    "name": "ipython",
    "version": 3
   },
   "version": "3.7.7-final"
  },
  "orig_nbformat": 2,
  "file_extension": ".py",
  "mimetype": "text/x-python",
  "name": "python",
  "npconvert_exporter": "python",
  "pygments_lexer": "ipython3",
  "version": 3,
  "kernelspec": {
   "name": "python3",
   "display_name": "Python 3"
  }
 },
 "cells": [
  {
   "cell_type": "code",
   "execution_count": 1,
   "metadata": {},
   "outputs": [],
   "source": [
    "class Country():\n",
    "    def __init__(self, name='Unspecified', population=None, size_kmsq=None):\n",
    "        self.name = name\n",
    "        self.population = population\n",
    "        self.size_kmsq = size_kmsq\n",
    "    def size_miles_sq(self, conversion_rate=0.621371):\n",
    "        return self.size_kmsq * conversion_rate ** 2"
   ]
  },
  {
   "cell_type": "code",
   "execution_count": 2,
   "metadata": {},
   "outputs": [
    {
     "output_type": "execute_result",
     "data": {
      "text/plain": "919694.772584862"
     },
     "metadata": {},
     "execution_count": 2
    }
   ],
   "source": [
    "algeria = Country(name='Algeria', size_kmsq=2.382e6)\n",
    "algeria.size_miles_sq()"
   ]
  },
  {
   "cell_type": "code",
   "execution_count": 3,
   "metadata": {},
   "outputs": [
    {
     "output_type": "execute_result",
     "data": {
      "text/plain": "857520.0"
     },
     "metadata": {},
     "execution_count": 3
    }
   ],
   "source": [
    "algeria.size_miles_sq(conversion_rate=0.6)"
   ]
  },
  {
   "cell_type": "code",
   "execution_count": null,
   "metadata": {},
   "outputs": [],
   "source": []
  }
 ]
}