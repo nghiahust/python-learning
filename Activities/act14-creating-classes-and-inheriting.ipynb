{
 "nbformat": 4,
 "nbformat_minor": 2,
 "metadata": {
  "language_info": {
   "name": "python",
   "codemirror_mode": {
    "name": "ipython",
    "version": 3
   }
  },
  "orig_nbformat": 2,
  "file_extension": ".py",
  "mimetype": "text/x-python",
  "name": "python",
  "npconvert_exporter": "python",
  "pygments_lexer": "ipython3",
  "version": 3
 },
 "cells": [
  {
   "cell_type": "code",
   "execution_count": null,
   "metadata": {},
   "outputs": [],
   "source": [
    "class Polygon():\n",
    "    __init__()\n",
    "    @property\n",
    "    def num_sides(self):\n",
    "        return num_sides\n",
    "    @property\n",
    "    def perimeter(self):\n",
    "        return perimeter\n",
    "\n",
    "class Rectangle(Polygon):\n",
    "    pass\n",
    "\n",
    "class Square(Rectangle):\n",
    "    __init__(self, arg):\n"
   ]
  }
 ]
}